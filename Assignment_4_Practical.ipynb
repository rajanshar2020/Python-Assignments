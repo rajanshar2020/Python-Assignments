{
 "cells": [
  {
   "cell_type": "code",
   "execution_count": 14,
   "id": "5ec12dd4",
   "metadata": {},
   "outputs": [
    {
     "name": "stdout",
     "output_type": "stream",
     "text": [
      "Enter the number: 5\n",
      "the factorial of  5 is 120\n"
     ]
    }
   ],
   "source": [
    "# Q1. Write a Python Program to Find the Factorial of a Number?\n",
    "a=int(input(\"Enter the number: \"))\n",
    "fact=1\n",
    "if a<0:\n",
    "    print(\"Negetive number do not have Factorials\")\n",
    "elif a==0:\n",
    "    print(\"The factorials of 0 is 1 \")\n",
    "else:\n",
    "    for i in range(1,a+1):\n",
    "        fact=fact*i\n",
    "    print(\"the factorial of \",a,\"is\",fact)"
   ]
  },
  {
   "cell_type": "code",
   "execution_count": 19,
   "id": "f41127dd",
   "metadata": {},
   "outputs": [
    {
     "name": "stdout",
     "output_type": "stream",
     "text": [
      "Enter the number: 39\n",
      "39 * 1 = 39\n",
      "39 * 2 = 78\n",
      "39 * 3 = 117\n",
      "39 * 4 = 156\n",
      "39 * 5 = 195\n",
      "39 * 6 = 234\n",
      "39 * 7 = 273\n",
      "39 * 8 = 312\n",
      "39 * 9 = 351\n",
      "39 * 10 = 390\n"
     ]
    }
   ],
   "source": [
    "# Q2. Write a Python Program to Display the multiplication Table?\n",
    "a=int(input(\"Enter the number: \"))\n",
    "for i in range(1,11):\n",
    "    k=a*i\n",
    "    print(a,\"*\",i,\"=\",k)"
   ]
  },
  {
   "cell_type": "code",
   "execution_count": 27,
   "id": "4731a413",
   "metadata": {},
   "outputs": [
    {
     "name": "stdout",
     "output_type": "stream",
     "text": [
      "Enter the terms: 7\n",
      "0\n",
      "1\n",
      "1\n",
      "2\n",
      "3\n",
      "5\n",
      "8\n"
     ]
    }
   ],
   "source": [
    "# Q3. Write a Python Program to Print the Fibonacci sequence?\n",
    "nterms=int(input(\"Enter the terms: \"))\n",
    "n1,n2=0,1 # first take two terms\n",
    "count=0\n",
    "while count<nterms:\n",
    "    print(n1)\n",
    "    nth=n1+n2\n",
    "    n1=n2\n",
    "    n2=nth\n",
    "    count+=1"
   ]
  },
  {
   "cell_type": "code",
   "execution_count": null,
   "id": "74353972",
   "metadata": {},
   "outputs": [],
   "source": [
    "# Q4. Write a Python Program to Check Armstrong Number?\n"
   ]
  },
  {
   "cell_type": "code",
   "execution_count": 4,
   "id": "95c8be2e",
   "metadata": {},
   "outputs": [
    {
     "name": "stdout",
     "output_type": "stream",
     "text": [
      "Enter the number: 371\n",
      "This is armstrong number\n"
     ]
    }
   ],
   "source": [
    "num=int(input(\"Enter the number: \"))\n",
    "sum=0\n",
    "temp=num\n",
    "while temp>0:\n",
    "    digit=temp%10\n",
    "    sum=sum+(digit**3)\n",
    "    temp=temp//10\n",
    "if num==sum:\n",
    "    print(\"This is armstrong number\")\n",
    "else:\n",
    "    print(\"This is not armstrong number\")"
   ]
  },
  {
   "cell_type": "code",
   "execution_count": 10,
   "id": "38f730e5",
   "metadata": {},
   "outputs": [
    {
     "name": "stdout",
     "output_type": "stream",
     "text": [
      "Enter the lower range to find armstrong number100\n",
      "Enter the upper range to find armstrong number100000\n",
      "153\n",
      "370\n",
      "371\n",
      "407\n"
     ]
    }
   ],
   "source": [
    "# Q5. Write a Python Program to Find Armstrong Number in an Interval?\n",
    "lower=int(input(\"Enter the lower range to find armstrong number\"))\n",
    "upper=int(input(\"Enter the upper range to find armstrong number\"))\n",
    "\n",
    "for num in range(lower,upper):\n",
    "    total=len(str(num))\n",
    "    sum=0\n",
    "    temp=num\n",
    "    while temp>0:\n",
    "        digit=temp%10\n",
    "        sum=sum+(digit**3)\n",
    "        temp//=10\n",
    "    if num==sum:\n",
    "        print(num)\n"
   ]
  },
  {
   "cell_type": "code",
   "execution_count": 19,
   "id": "b508ac0b",
   "metadata": {},
   "outputs": [
    {
     "name": "stdout",
     "output_type": "stream",
     "text": [
      "enter the number: 16\n",
      "The Sum of Natural Numbers is: 136\n"
     ]
    }
   ],
   "source": [
    "# Q6. Write a Python Program to Find the Sum of Natural Numbers?\n",
    "num=int(input(\"enter the number: \"))\n",
    "if num<0:\n",
    "    print(\"enter the positive number\")\n",
    "else:\n",
    "    sum=0\n",
    "    while num>0:\n",
    "        \n",
    "        sum=sum+num\n",
    "        num=(num-1)\n",
    "    print(\"The Sum of Natural Numbers is:\",sum)"
   ]
  },
  {
   "cell_type": "code",
   "execution_count": null,
   "id": "6598da06",
   "metadata": {},
   "outputs": [],
   "source": []
  }
 ],
 "metadata": {
  "kernelspec": {
   "display_name": "Python 3",
   "language": "python",
   "name": "python3"
  },
  "language_info": {
   "codemirror_mode": {
    "name": "ipython",
    "version": 3
   },
   "file_extension": ".py",
   "mimetype": "text/x-python",
   "name": "python",
   "nbconvert_exporter": "python",
   "pygments_lexer": "ipython3",
   "version": "3.8.8"
  }
 },
 "nbformat": 4,
 "nbformat_minor": 5
}
