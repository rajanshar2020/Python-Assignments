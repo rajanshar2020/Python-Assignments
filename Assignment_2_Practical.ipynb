{
 "cells": [
  {
   "cell_type": "code",
   "execution_count": 6,
   "id": "97b721a6",
   "metadata": {},
   "outputs": [
    {
     "name": "stdout",
     "output_type": "stream",
     "text": [
      "Enter the number 4\n",
      "2.48548  Miles\n"
     ]
    }
   ],
   "source": [
    "#Q1. Write a Python program to convert kilometers to miles?\n",
    "a=0.62137\n",
    "k=float(input(\"Enter the number \"))\n",
    "b=k*a\n",
    "print(b,\" Miles\")"
   ]
  },
  {
   "cell_type": "code",
   "execution_count": 5,
   "id": "fdbda209",
   "metadata": {},
   "outputs": [
    {
     "name": "stdout",
     "output_type": "stream",
     "text": [
      "Enter the celcius 98.6\n",
      "209.48  F\n"
     ]
    }
   ],
   "source": [
    "#Q2. Write a Python program to convert Celsius to Fahrenheit?\n",
    "a=float(input(\"Enter the celcius \"))\n",
    "b=(a*9/5)+32\n",
    "print(b,\" F\")"
   ]
  },
  {
   "cell_type": "code",
   "execution_count": 9,
   "id": "725638fd",
   "metadata": {},
   "outputs": [
    {
     "name": "stdout",
     "output_type": "stream",
     "text": [
      "enter the year: 2021\n",
      "enter the month: 12\n",
      "   December 2021\n",
      "Mo Tu We Th Fr Sa Su\n",
      "       1  2  3  4  5\n",
      " 6  7  8  9 10 11 12\n",
      "13 14 15 16 17 18 19\n",
      "20 21 22 23 24 25 26\n",
      "27 28 29 30 31\n",
      "\n"
     ]
    }
   ],
   "source": [
    "#Q3. Write a Python program to display calendar?\n",
    "import calendar\n",
    "yy=int(input(\"enter the year: \"))\n",
    "mm=int(input(\"enter the month: \"))\n",
    "dis=calendar.month(yy,mm)\n",
    "print(dis)"
   ]
  },
  {
   "cell_type": "code",
   "execution_count": 11,
   "id": "4bf506f3",
   "metadata": {},
   "outputs": [
    {
     "name": "stdout",
     "output_type": "stream",
     "text": [
      "the solution are (-2-1.4142135623730951j) and (-2+1.4142135623730951j)\n"
     ]
    }
   ],
   "source": [
    "#Q4. Write a Python program to solve quadratic equation?\n",
    "import cmath\n",
    "a=1\n",
    "b=4\n",
    "c=6\n",
    "d=(b**2)-(4*a*c)\n",
    "sol1= (-b-cmath.sqrt(d))/(2*a)\n",
    "sol2=(-b+cmath.sqrt(d))/(2*a)\n",
    "\n",
    "print(\"the solution are {0} and {1}\".format(sol1,sol2))"
   ]
  },
  {
   "cell_type": "code",
   "execution_count": 12,
   "id": "b9cf6460",
   "metadata": {},
   "outputs": [
    {
     "name": "stdout",
     "output_type": "stream",
     "text": [
      "enter the first number 2\n",
      "enter the second number10\n",
      "the value of a 10 and b 2\n"
     ]
    }
   ],
   "source": [
    "#Q5. Write a Python program to swap two variables without temp variable?\n",
    "a=int(input(\"enter the first number \"))\n",
    "b=int(input(\"enter the second number\"))\n",
    "a,b=b,a\n",
    "print(\"the value of a {0} and b {1}\".format(a,b))"
   ]
  },
  {
   "cell_type": "code",
   "execution_count": null,
   "id": "15f9e8a4",
   "metadata": {},
   "outputs": [],
   "source": []
  }
 ],
 "metadata": {
  "kernelspec": {
   "display_name": "Python 3",
   "language": "python",
   "name": "python3"
  },
  "language_info": {
   "codemirror_mode": {
    "name": "ipython",
    "version": 3
   },
   "file_extension": ".py",
   "mimetype": "text/x-python",
   "name": "python",
   "nbconvert_exporter": "python",
   "pygments_lexer": "ipython3",
   "version": "3.8.8"
  }
 },
 "nbformat": 4,
 "nbformat_minor": 5
}
