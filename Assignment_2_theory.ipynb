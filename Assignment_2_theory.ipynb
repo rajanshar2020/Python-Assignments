{
 "cells": [
  {
   "cell_type": "raw",
   "id": "0f914668",
   "metadata": {},
   "source": [
    "# 1.What are the two values of the Boolean data type? How do you write them?\n",
    "Ans. The two values of the boolen data type are True and False."
   ]
  },
  {
   "cell_type": "raw",
   "id": "4d634a5a",
   "metadata": {},
   "source": [
    "#Q2. What are the three different types of Boolean operators?\n",
    "Ans. The three different types of boolean operators are AND, OR And NOT."
   ]
  },
  {
   "cell_type": "raw",
   "id": "58644191",
   "metadata": {},
   "source": [
    "Q3. Make a list of each Boolean operator&#39;s truth tables (i.e. every possible combination of Boolean\n",
    "values for the operator and what it evaluate ).\n",
    "ans:\n",
    "AND Truth Table:-\n",
    "0 and 1=0\n",
    "0 and 0=0\n",
    "1 and 0=0\n",
    "1 and 1=1\n",
    "\n",
    "OR Truth Table:\n",
    "0 or 1=1\n",
    "0 or 0=1\n",
    "1 or 0=1\n",
    "1 or 1=1\n",
    "\n",
    "NOT truth Table:\n",
    "\n",
    "NOT AND Truth Table:-\n",
    "0 and 1=1\n",
    "0 and 0=1\n",
    "1 and 0=1\n",
    "1 and 1=0\n",
    "\n",
    "NOT OR Truth Table:-\n",
    "\n",
    "0 and 1=0\n",
    "0 and 0=0\n",
    "1 and 0=0\n",
    "1 and 1=0"
   ]
  },
  {
   "cell_type": "raw",
   "id": "7cce73fc",
   "metadata": {},
   "source": [
    "#4. What are the values of the following expressions?\n",
    "(5 > 4) and (3 == 5) =False\n",
    "\n",
    "not (5 > 4) =False\n",
    "\n",
    "(5 > 4) or (3 == 5) =True\n",
    "\n",
    "not ((5 > 4) or (3 == 5)) =False\n",
    "\n",
    "(True and True) and (True == False) =False\n",
    "\n",
    "(not False) or (not True) =True"
   ]
  },
  {
   "cell_type": "raw",
   "id": "bb245b57",
   "metadata": {},
   "source": [
    "# Q5. What are the six comparison operators?\n",
    "And.\n",
    "= Equal to\n",
    "> Greater than\n",
    "< Less than\n",
    ">= Greater than equal to\n",
    "<= Less than equal to\n",
    "<> not equal to"
   ]
  },
  {
   "cell_type": "raw",
   "id": "7a0aaeb6",
   "metadata": {},
   "source": [
    "Q6 How do you tell the difference between the equal to and assignment operators?Describe a\n",
    "condition and when you would use one.\n",
    "Ans. \n",
    "The “=” is an assignment operator is used to assign the value on the right to the variable on the left. \n",
    "The '==' operator checks whether the two given operands are equal or not. If so, it returns true. Otherwise it returns false.\n",
    "Example 1.\n",
    "a=5\n",
    "b=a\n",
    "now b has 5 in it.\n",
    "Example 2.\n",
    "a=5\n",
    "b=5\n",
    "a==b # it will give as True"
   ]
  },
  {
   "cell_type": "code",
   "execution_count": 10,
   "id": "dfa6b2ba",
   "metadata": {},
   "outputs": [
    {
     "name": "stdout",
     "output_type": "stream",
     "text": [
      "ham\n",
      "spam\n",
      "spam\n"
     ]
    }
   ],
   "source": [
    "#Q7 Identify the three blocks in this code:\n",
    "spam = 0\n",
    "if spam == 10:\n",
    "    print('eggs')\n",
    "if spam > 5:\n",
    "    print('becon')\n",
    "else:\n",
    "    print('ham')\n",
    "    print('spam')\n",
    "    print('spam')"
   ]
  },
  {
   "cell_type": "code",
   "execution_count": 16,
   "id": "10fdef5d",
   "metadata": {},
   "outputs": [
    {
     "name": "stdout",
     "output_type": "stream",
     "text": [
      "Enter the value1\n",
      "Hello\n"
     ]
    }
   ],
   "source": [
    "\"\"\" Q8 Write code that prints Hello if 1 is stored in spam, prints Howdy if 2 is stored in spam, and prints\n",
    "Greetings! if anything else is stored in spam.\"\"\"\n",
    "spam=int(input(\"Enter the value\"))\n",
    "if spam==1:\n",
    "    print(\"Hello\")\n",
    "elif spam==2:\n",
    "    print(\"Howdy\")\n",
    "else:\n",
    "    print(\"Greetings !\")"
   ]
  },
  {
   "cell_type": "raw",
   "id": "c5498a22",
   "metadata": {},
   "source": [
    "# Q9.If your programme is stuck in an endless loop, what keys you’ll press?\n",
    "Ans. Ctrl +C"
   ]
  },
  {
   "cell_type": "raw",
   "id": "ad590fb7",
   "metadata": {},
   "source": [
    "Q 10. How can you tell the difference between break and continue?\n",
    "Ans.\n",
    "Break:- In the Python break statement stops the loop in which the statement is placed. \n",
    "Continue:-  and continue statement skips a single iteration in a loop. "
   ]
  },
  {
   "cell_type": "raw",
   "id": "3f4e5928",
   "metadata": {},
   "source": [
    "Q 11. In a for loop, what is the difference between range(10), range(0, 10), and range(0, 10, 1)?\n",
    "Ans.\n",
    "range(10): It means range[0,1,2,3,4,5,6,7,8,9]\n",
    "range(0,10): It means range[0,1,2,3,4,5,6,7,8,9]\n",
    "range(0,10,1): It means range[0,1,2,3,4,5,6,7,8,9]\n",
    "above three range are same, we can write any type."
   ]
  },
  {
   "cell_type": "code",
   "execution_count": 2,
   "id": "ac7e767f",
   "metadata": {},
   "outputs": [
    {
     "name": "stdout",
     "output_type": "stream",
     "text": [
      "1\n",
      "2\n",
      "3\n",
      "4\n",
      "5\n",
      "6\n",
      "7\n",
      "8\n",
      "9\n",
      "10\n",
      "1\n",
      "2\n",
      "3\n",
      "4\n",
      "5\n",
      "6\n",
      "7\n",
      "8\n",
      "9\n",
      "10\n"
     ]
    }
   ],
   "source": [
    "\"\"\"Q12.Write a short program that prints the numbers 1 to 10 using a for loop. Then write an equivalent\n",
    "program that prints the numbers 1 to 10 using a while loop.\"\"\"\n",
    "\n",
    "#prints the numbers 1 to 10 using a for loop\n",
    "for i in range(1,10+1):\n",
    "    print(i)\n",
    "    \n",
    "#prints the numbers 1 to 10 using a while loop\n",
    "a=1\n",
    "while a<=10:\n",
    "    print(a)\n",
    "    a+=1"
   ]
  },
  {
   "cell_type": "code",
   "execution_count": null,
   "id": "33260761",
   "metadata": {},
   "outputs": [],
   "source": [
    "#13. If you had a function named bacon() inside a module named spam, how would you call it after importing spam?\n",
    "Ans. \n",
    "import spam\n",
    "spam.bacon()"
   ]
  }
 ],
 "metadata": {
  "kernelspec": {
   "display_name": "Python 3",
   "language": "python",
   "name": "python3"
  },
  "language_info": {
   "codemirror_mode": {
    "name": "ipython",
    "version": 3
   },
   "file_extension": ".py",
   "mimetype": "text/x-python",
   "name": "python",
   "nbconvert_exporter": "python",
   "pygments_lexer": "ipython3",
   "version": "3.8.8"
  }
 },
 "nbformat": 4,
 "nbformat_minor": 5
}
