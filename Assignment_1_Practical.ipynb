{
 "cells": [
  {
   "cell_type": "code",
   "execution_count": 2,
   "id": "b0542250",
   "metadata": {},
   "outputs": [
    {
     "name": "stdout",
     "output_type": "stream",
     "text": [
      "hello Python\n"
     ]
    }
   ],
   "source": [
    "#Q1. Write a Python program to print “Hello Python”?\n",
    "print(\"hello Python\")"
   ]
  },
  {
   "cell_type": "code",
   "execution_count": 3,
   "id": "8ef37d98",
   "metadata": {},
   "outputs": [
    {
     "name": "stdout",
     "output_type": "stream",
     "text": [
      "30 2.0\n"
     ]
    }
   ],
   "source": [
    "#Q2. Write a Python program to do arithmetical operations addition and division.?\n",
    "a=10\n",
    "b=20\n",
    "c=a+b\n",
    "d=b/a\n",
    "print(c,d)"
   ]
  },
  {
   "cell_type": "code",
   "execution_count": 6,
   "id": "fdf35bb4",
   "metadata": {},
   "outputs": [
    {
     "name": "stdout",
     "output_type": "stream",
     "text": [
      "enter the first side of triangle 8\n",
      "enter the second side of triangle  9\n",
      "enter the third side of triangle  10\n",
      "Area of the triangle is:  34.197039345533994\n"
     ]
    }
   ],
   "source": [
    "#Q3. Write a Python program to find the area of a triangle?\n",
    "#Area of Triangle=1/2(b*h)\n",
    "import math\n",
    "a=int(input(\"enter the first side of triangle \"))\n",
    "b=int(input(\"enter the second side of triangle  \"))\n",
    "c=int(input(\"enter the third side of triangle  \"))\n",
    "s=(a+b+c)/2\n",
    "area=math.sqrt(s*(s-a)*(s-b)*(s-c))\n",
    "print(\"Area of the triangle is: \",area)"
   ]
  },
  {
   "cell_type": "code",
   "execution_count": 9,
   "id": "3037cdc9",
   "metadata": {},
   "outputs": [
    {
     "name": "stdout",
     "output_type": "stream",
     "text": [
      "enter first number4\n",
      "enter second number8\n",
      "After swaping the value of a is:  8\n",
      "After swaping the value of b is:  4\n"
     ]
    }
   ],
   "source": [
    "#Q4.Write a Python program to swap two variables\n",
    "a=int(input(\"enter first number\"))\n",
    "b=int(input(\"enter second number\"))\n",
    "a,b=b,a\n",
    "print(\"After swaping the value of a is: \",a)\n",
    "print(\"After swaping the value of b is: \",b)"
   ]
  },
  {
   "cell_type": "code",
   "execution_count": 10,
   "id": "af674a49",
   "metadata": {},
   "outputs": [
    {
     "name": "stdout",
     "output_type": "stream",
     "text": [
      "8\n"
     ]
    }
   ],
   "source": [
    "#Q5.Write a Python program to generate a random number?\n",
    "import random\n",
    "print(random.randint(0,9))"
   ]
  },
  {
   "cell_type": "code",
   "execution_count": null,
   "id": "a2bef01d",
   "metadata": {},
   "outputs": [],
   "source": []
  }
 ],
 "metadata": {
  "kernelspec": {
   "display_name": "Python 3",
   "language": "python",
   "name": "python3"
  },
  "language_info": {
   "codemirror_mode": {
    "name": "ipython",
    "version": 3
   },
   "file_extension": ".py",
   "mimetype": "text/x-python",
   "name": "python",
   "nbconvert_exporter": "python",
   "pygments_lexer": "ipython3",
   "version": "3.8.8"
  }
 },
 "nbformat": 4,
 "nbformat_minor": 5
}
