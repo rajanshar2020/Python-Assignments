{
 "cells": [
  {
   "cell_type": "raw",
   "id": "ba6f6ba4",
   "metadata": {},
   "source": [
    "Q1. In the below elements which of them are values or an expression? eg:- values can be\n",
    "integer or string and expressions will be mathematical operators.\n",
    "*       = an expression\n",
    "'hello' = Value\n",
    "-87.8   = Value\n",
    "-       = an expression\n",
    "/       = an expression\n",
    "+       = an expression\n",
    "6       = Value"
   ]
  },
  {
   "cell_type": "raw",
   "id": "9980cb07",
   "metadata": {},
   "source": [
    "Q2. What is the difference between string and variable?\n",
    "Ans.\n",
    "Variable:-A variable is basically the name of the location in the primary memory of your computer, A variable can store everything from strings to numbers. \n",
    "String:-A string is the values inside the quotes assigned to a string."
   ]
  },
  {
   "cell_type": "raw",
   "id": "85baabb7",
   "metadata": {},
   "source": [
    "Q3. Describe three different data types.\n",
    "Numbers: The Number data type is used to stores numeric values.\n",
    "String: The string data type is used to stores the sequence of characters.\n",
    "Tuple: Tuple data type is used to stores a collection of different data types of elements, and it is immutable."
   ]
  },
  {
   "cell_type": "raw",
   "id": "922d4d50",
   "metadata": {},
   "source": [
    "Q4. What is an expression made up of? What do all expressions do?\n",
    "Expression is made up of values, containers, and mathematical operators e.g a = 2 + 3.\n",
    "Expressions are used to evaluate the values or represent the result on the screen. e.g a= 5."
   ]
  },
  {
   "cell_type": "raw",
   "id": "693b29b8",
   "metadata": {},
   "source": [
    "Q5.This assignment statements, like spam = 10. What is the difference between an\n",
    "expression and a statement?\n",
    "An Expression:-An expression is a combination of values and functions that are combined and interpreted by the compiler to create a new value.\n",
    "An Statement:-A statement which is just a standalone unit of execution and doesnot return anything."
   ]
  },
  {
   "cell_type": "code",
   "execution_count": 6,
   "id": "c4b45fe5",
   "metadata": {},
   "outputs": [
    {
     "name": "stdout",
     "output_type": "stream",
     "text": [
      "22\n"
     ]
    }
   ],
   "source": [
    "#Q6. After running the following code, what does the variable bacon contain?\n",
    "bacon = 22\n",
    "bacon + 1\n",
    "print(bacon)\n",
    "#bacon contain 22"
   ]
  },
  {
   "cell_type": "code",
   "execution_count": 10,
   "id": "fb7ee762",
   "metadata": {},
   "outputs": [
    {
     "data": {
      "text/plain": [
       "'spamspamspam'"
      ]
     },
     "execution_count": 10,
     "metadata": {},
     "output_type": "execute_result"
    }
   ],
   "source": [
    "#Q7.What should the values of the following two terms be?\n",
    "'spam'+'spamspam'\n",
    "'spam'*3\n",
    "# both output of above code is \"spamspamspam\""
   ]
  },
  {
   "cell_type": "raw",
   "id": "971cb5f6",
   "metadata": {},
   "source": [
    "Q8.Why is eggs a valid variable name while 100 is invalid?\n",
    "Ans. eggs is valid varible name because variable names cannot begin with a number."
   ]
  },
  {
   "cell_type": "raw",
   "id": "142806d5",
   "metadata": {},
   "source": [
    "Q9. What three functions can be used to get the integer, floating-point number, or string\n",
    "version of a value?\n",
    "Ans. The int() , float() , and str( ) functions will evaluate to the integer, floating-point number, and \n",
    "string versions of the value passed to them."
   ]
  },
  {
   "cell_type": "raw",
   "id": "512c813f",
   "metadata": {},
   "source": [
    "Q10. Why does this expression cause an error? How can you fix it?\n",
    "'I have eaten' + 99 + 'burritos'\n",
    "Ans: It encounters the error because we can not concatenate string with integer so we can fix it by converting integer to string.\n",
    "'I have eaten' + '99' + 'burritos'"
   ]
  },
  {
   "cell_type": "code",
   "execution_count": null,
   "id": "8d6ba3d7",
   "metadata": {},
   "outputs": [],
   "source": []
  }
 ],
 "metadata": {
  "kernelspec": {
   "display_name": "Python 3",
   "language": "python",
   "name": "python3"
  },
  "language_info": {
   "codemirror_mode": {
    "name": "ipython",
    "version": 3
   },
   "file_extension": ".py",
   "mimetype": "text/x-python",
   "name": "python",
   "nbconvert_exporter": "python",
   "pygments_lexer": "ipython3",
   "version": "3.8.8"
  }
 },
 "nbformat": 4,
 "nbformat_minor": 5
}
